{
 "cells": [
  {
   "cell_type": "code",
   "execution_count": 8,
   "id": "62ba87dc-946d-4023-9b2b-46c4cfe790f0",
   "metadata": {},
   "outputs": [],
   "source": [
    "from pyspark.sql import SparkSession\n",
    "from pyspark.sql.functions import col, lit, when\n",
    "\n",
    "from pyspark.sql.types import StructType, StructField, IntegerType, DoubleType\n"
   ]
  },
  {
   "cell_type": "code",
   "execution_count": 2,
   "id": "59cfe2bd-8640-4183-bc15-ad75d3acd325",
   "metadata": {},
   "outputs": [],
   "source": [
    "# Initialize Spark session\n",
    "spark = SparkSession.builder.appName(\"Amortization Schedule\").getOrCreate()\n",
    "\n"
   ]
  },
  {
   "cell_type": "code",
   "execution_count": 3,
   "id": "6cc0668a-8925-479f-accd-d82d83df4124",
   "metadata": {},
   "outputs": [],
   "source": [
    "def npf_pmt(rate, nper, pv, fv=0, when='end'):\n",
    "    \n",
    "    temp = (1 + rate) ** nper\n",
    " \n",
    "    if rate == 0:\n",
    "        fact = nper\n",
    "    else:\n",
    "        fact = (temp - 1) / rate\n",
    "    \n",
    "     \n",
    "    pmt_val = -(fv + pv * temp) / fact\n",
    "    \n",
    "    \n",
    "    if when == 'begin':\n",
    "        return pmt_val / (1 + rate)\n",
    "    else:\n",
    "        return pmt_val\n"
   ]
  },
  {
   "cell_type": "code",
   "execution_count": 4,
   "id": "a3253f6f-a8cb-4198-a4b7-41ba1caa1e1d",
   "metadata": {},
   "outputs": [],
   "source": [
    "\n",
    "def amortize(loanamount, interest_rate, term_months):\n",
    "    zpayment = -npf_pmt(interest_rate/12, term_months, loanamount) \n",
    "    \n",
    "    schedule = []\n",
    "\n",
    "    for ctr in range(term_months + 1):\n",
    "        if ctr == 0:\n",
    "            opening_balance = 0\n",
    "            payment = 0\n",
    "            interest = opening_balance * interest_rate/12\n",
    "            principal = payment - interest\n",
    "            closing_balance = loanamount\n",
    "        else:\n",
    "            opening_balance = closing_balance\n",
    "            payment = zpayment\n",
    "            interest = opening_balance * interest_rate/12\n",
    "            principal = payment - interest\n",
    "            closing_balance = opening_balance - principal\n",
    "        \n",
    "        schedule.append(\n",
    "            (ctr, opening_balance, payment, interest, principal, closing_balance)\n",
    "        )\n",
    "    \n",
    "    return schedule\n"
   ]
  },
  {
   "cell_type": "code",
   "execution_count": 10,
   "id": "964bb183-4600-41f9-9d90-5c5c38244860",
   "metadata": {},
   "outputs": [],
   "source": [
    " \n",
    "data = amortize(592.04, 0.02, 4)\n",
    " \n",
    "corrected_data = []\n",
    "for row in data:\n",
    "    corrected_row = (\n",
    "        int(row[0]),       # period as IntegerType\n",
    "        float(row[1]),     # opening_balance as DoubleType\n",
    "        float(row[2]),     # payment as DoubleType\n",
    "        float(row[3]),     # interest as DoubleType\n",
    "        float(row[4]),     # principal as DoubleType\n",
    "        float(row[5])      # closing_balance as DoubleType\n",
    "    )\n",
    "    corrected_data.append(corrected_row)\n",
    "\n",
    " \n",
    "df = spark.createDataFrame(corrected_data, schema=schema)\n"
   ]
  },
  {
   "cell_type": "code",
   "execution_count": 11,
   "id": "71578c65-bd19-4d34-8c74-76b54b532ae7",
   "metadata": {},
   "outputs": [
    {
     "name": "stdout",
     "output_type": "stream",
     "text": [
      "+------+------------------+------------------+-------------------+------------------+--------------------+\n",
      "|period|   opening_balance|           payment|           interest|         principal|     closing_balance|\n",
      "+------+------------------+------------------+-------------------+------------------+--------------------+\n",
      "|     0|               0.0|               0.0|                0.0|               0.0|              592.04|\n",
      "|     1|            592.04|148.62722182874123| 0.9867333333333334| 147.6404884954079|  444.39951150459206|\n",
      "|     2|444.39951150459206|148.62722182874123| 0.7406658525076534|147.88655597623358|   296.5129555283585|\n",
      "|     3| 296.5129555283585|148.62722182874123|0.49418825921393084| 148.1330335695273|  148.37992195883118|\n",
      "|     4|148.37992195883118|148.62722182874123| 0.2472998699313853|148.37992195880983|2.134470378223341...|\n",
      "+------+------------------+------------------+-------------------+------------------+--------------------+\n",
      "\n"
     ]
    }
   ],
   "source": [
    "\n",
    "# Show the DataFrame\n",
    "df.show()\n",
    "\n"
   ]
  },
  {
   "cell_type": "code",
   "execution_count": null,
   "id": "056e9068-b71c-498b-8caf-18cef1b2d42b",
   "metadata": {},
   "outputs": [],
   "source": [
    " \n",
    "# df.write.csv('basic_amortization_schedule.csv', header=True)\n",
    " \n",
    "spark.stop()"
   ]
  }
 ],
 "metadata": {
  "kernelspec": {
   "display_name": "Python 3 (ipykernel)",
   "language": "python",
   "name": "python3"
  },
  "language_info": {
   "codemirror_mode": {
    "name": "ipython",
    "version": 3
   },
   "file_extension": ".py",
   "mimetype": "text/x-python",
   "name": "python",
   "nbconvert_exporter": "python",
   "pygments_lexer": "ipython3",
   "version": "3.11.6"
  }
 },
 "nbformat": 4,
 "nbformat_minor": 5
}
